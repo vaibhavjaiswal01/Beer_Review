{
 "cells": [
  {
   "cell_type": "markdown",
   "metadata": {},
   "source": [
    "##### Import all necessary libraries"
   ]
  },
  {
   "cell_type": "code",
   "execution_count": 1,
   "metadata": {},
   "outputs": [],
   "source": [
    "import numpy as np  \n",
    "import pandas as pd \n",
    "import seaborn as sns \n",
    "import matplotlib.pyplot as plt \n",
    "from IPython.display import display, HTML \n",
    "from sklearn.ensemble import RandomForestRegressor "
   ]
  },
  {
   "cell_type": "markdown",
   "metadata": {},
   "source": [
    "##### Importing the data into dataframe"
   ]
  },
  {
   "cell_type": "code",
   "execution_count": 2,
   "metadata": {},
   "outputs": [],
   "source": [
    "beer_data = pd.read_csv(\"data/BeerDataScienceProject.csv\",  encoding=\"ISO-8859–1\")"
   ]
  },
  {
   "cell_type": "markdown",
   "metadata": {},
   "source": [
    "###### Explore the Data"
   ]
  },
  {
   "cell_type": "code",
   "execution_count": 3,
   "metadata": {},
   "outputs": [
    {
     "data": {
      "text/plain": [
       "(528870, 13)"
      ]
     },
     "execution_count": 3,
     "metadata": {},
     "output_type": "execute_result"
    }
   ],
   "source": [
    "# Checking the size of the data\n",
    "beer_data.shape"
   ]
  },
  {
   "cell_type": "code",
   "execution_count": 4,
   "metadata": {},
   "outputs": [
    {
     "name": "stdout",
     "output_type": "stream",
     "text": [
      "beer_ABV\n",
      "beer_beerId\n",
      "beer_brewerId\n",
      "beer_name\n",
      "beer_style\n",
      "review_appearance\n",
      "review_palette\n",
      "review_overall\n",
      "review_taste\n",
      "review_profileName\n",
      "review_aroma\n",
      "review_text\n",
      "review_time\n"
     ]
    }
   ],
   "source": [
    "for col in beer_data.columns: \n",
    "    print(col) "
   ]
  },
  {
   "cell_type": "code",
   "execution_count": 5,
   "metadata": {},
   "outputs": [
    {
     "name": "stdout",
     "output_type": "stream",
     "text": [
      "<class 'pandas.core.frame.DataFrame'>\n",
      "RangeIndex: 528870 entries, 0 to 528869\n",
      "Data columns (total 13 columns):\n",
      "beer_ABV              508590 non-null float64\n",
      "beer_beerId           528870 non-null int64\n",
      "beer_brewerId         528870 non-null int64\n",
      "beer_name             528870 non-null object\n",
      "beer_style            528870 non-null object\n",
      "review_appearance     528870 non-null float64\n",
      "review_palette        528870 non-null float64\n",
      "review_overall        528870 non-null float64\n",
      "review_taste          528870 non-null float64\n",
      "review_profileName    528755 non-null object\n",
      "review_aroma          528870 non-null float64\n",
      "review_text           528751 non-null object\n",
      "review_time           528870 non-null int64\n",
      "dtypes: float64(6), int64(3), object(4)\n",
      "memory usage: 52.5+ MB\n"
     ]
    }
   ],
   "source": [
    "beer_data.info()"
   ]
  },
  {
   "cell_type": "markdown",
   "metadata": {},
   "source": [
    "##### Counting the missing value in each column"
   ]
  },
  {
   "cell_type": "code",
   "execution_count": 6,
   "metadata": {},
   "outputs": [
    {
     "data": {
      "text/plain": [
       "beer_ABV              3.834591\n",
       "review_text           0.022501\n",
       "review_profileName    0.021744\n",
       "review_time           0.000000\n",
       "review_aroma          0.000000\n",
       "review_taste          0.000000\n",
       "review_overall        0.000000\n",
       "review_palette        0.000000\n",
       "review_appearance     0.000000\n",
       "beer_style            0.000000\n",
       "beer_name             0.000000\n",
       "beer_brewerId         0.000000\n",
       "beer_beerId           0.000000\n",
       "dtype: float64"
      ]
     },
     "execution_count": 6,
     "metadata": {},
     "output_type": "execute_result"
    }
   ],
   "source": [
    "missing_data_columns = beer_data.isnull().mean().sort_values(ascending=False)*100\n",
    "missing_data_columns"
   ]
  },
  {
   "cell_type": "markdown",
   "metadata": {},
   "source": [
    "##### Visualising the missing value using heatmap"
   ]
  },
  {
   "cell_type": "code",
   "execution_count": 7,
   "metadata": {},
   "outputs": [
    {
     "data": {
      "text/plain": [
       "<matplotlib.axes._subplots.AxesSubplot at 0x1fa1eb93e10>"
      ]
     },
     "execution_count": 7,
     "metadata": {},
     "output_type": "execute_result"
    },
    {
     "data": {
      "image/png": "[encoded data removed]",
      "text/plain": [
       "<Figure size 432x288 with 1 Axes>"
      ]
     },
     "metadata": {
      "needs_background": "light"
     },
     "output_type": "display_data"
    }
   ],
   "source": [
    "sns.heatmap(beer_data.isnull(), cbar=False)"
   ]
  },
  {
   "cell_type": "markdown",
   "metadata": {},
   "source": [
    "Beer_ABV column has missing values with variation in occurrence, they are not in chunk , and other variables are good with Missing valaues.                                     \n",
    "So lets impute the missing of \"beer_abv\" with mean of the column            \n",
    "###### very few % of missng value in \"beer_ABV\" column, so imputing the missing with mean"
   ]
  },
  {
   "cell_type": "code",
   "execution_count": 8,
   "metadata": {},
   "outputs": [],
   "source": [
    "beer_data['beer_ABV'] = beer_data['beer_ABV'].fillna( beer_data['beer_ABV'].mean())"
   ]
  },
  {
   "cell_type": "markdown",
   "metadata": {},
   "source": [
    "Drop the missing value whcih are less than even 0.1 %"
   ]
  },
  {
   "cell_type": "code",
   "execution_count": 9,
   "metadata": {},
   "outputs": [],
   "source": [
    "data = beer_data.dropna(axis = 0)"
   ]
  },
  {
   "cell_type": "markdown",
   "metadata": {},
   "source": [
    "finally checking if all the missng values are handled."
   ]
  },
  {
   "cell_type": "code",
   "execution_count": 10,
   "metadata": {},
   "outputs": [
    {
     "data": {
      "text/plain": [
       "review_time           0.0\n",
       "review_text           0.0\n",
       "review_aroma          0.0\n",
       "review_profileName    0.0\n",
       "review_taste          0.0\n",
       "review_overall        0.0\n",
       "review_palette        0.0\n",
       "review_appearance     0.0\n",
       "beer_style            0.0\n",
       "beer_name             0.0\n",
       "beer_brewerId         0.0\n",
       "beer_beerId           0.0\n",
       "beer_ABV              0.0\n",
       "dtype: float64"
      ]
     },
     "execution_count": 10,
     "metadata": {},
     "output_type": "execute_result"
    }
   ],
   "source": [
    "missing_data_columns = data.isnull().mean().sort_values(ascending=False)*100\n",
    "missing_data_columns"
   ]
  },
  {
   "cell_type": "markdown",
   "metadata": {},
   "source": [
    "## Question 1 "
   ]
  },
  {
   "cell_type": "markdown",
   "metadata": {},
   "source": [
    "#### Since in the Data, the only info about Brewer is given in the form of BrewerID, hence I will use this feature. "
   ]
  },
  {
   "cell_type": "markdown",
   "metadata": {},
   "source": [
    "###### So get the strength of Beer, I will calculated the Average \"beer_ABV\" value corresponding to each \"beer_brewerID\""
   ]
  },
  {
   "cell_type": "code",
   "execution_count": 11,
   "metadata": {},
   "outputs": [],
   "source": [
    "strong_data = data.groupby('beer_brewerId').beer_ABV.mean()\n",
    "strongest = pd.DataFrame(strong_data.reset_index())\n",
    "strongest = strongest.sort_values(['beer_ABV'], ascending=False)"
   ]
  },
  {
   "cell_type": "code",
   "execution_count": 12,
   "metadata": {},
   "outputs": [
    {
     "data": {
      "text/html": [
       "<div>\n",
       "<style scoped>\n",
       "    .dataframe tbody tr th:only-of-type {\n",
       "        vertical-align: middle;\n",
       "    }\n",
       "\n",
       "    .dataframe tbody tr th {\n",
       "        vertical-align: top;\n",
       "    }\n",
       "\n",
       "    .dataframe thead th {\n",
       "        text-align: right;\n",
       "    }\n",
       "</style>\n",
       "<table border=\"1\" class=\"dataframe\">\n",
       "  <thead>\n",
       "    <tr style=\"text-align: right;\">\n",
       "      <th></th>\n",
       "      <th>beer_brewerId</th>\n",
       "      <th>beer_ABV</th>\n",
       "    </tr>\n",
       "  </thead>\n",
       "  <tbody>\n",
       "    <tr>\n",
       "      <th>784</th>\n",
       "      <td>6513</td>\n",
       "      <td>19.228824</td>\n",
       "    </tr>\n",
       "    <tr>\n",
       "      <th>175</th>\n",
       "      <td>736</td>\n",
       "      <td>13.395655</td>\n",
       "    </tr>\n",
       "    <tr>\n",
       "      <th>1644</th>\n",
       "      <td>24215</td>\n",
       "      <td>12.466667</td>\n",
       "    </tr>\n",
       "  </tbody>\n",
       "</table>\n",
       "</div>"
      ],
      "text/plain": [
       "      beer_brewerId   beer_ABV\n",
       "784            6513  19.228824\n",
       "175             736  13.395655\n",
       "1644          24215  12.466667"
      ]
     },
     "execution_count": 12,
     "metadata": {},
     "output_type": "execute_result"
    }
   ],
   "source": [
    "strongest.head(3)"
   ]
  },
  {
   "cell_type": "markdown",
   "metadata": {},
   "source": [
    "Here is list of top 3 strongest brewer, each brewerID represent the Brewer.  "
   ]
  },
  {
   "cell_type": "markdown",
   "metadata": {},
   "source": [
    "## Question 2"
   ]
  },
  {
   "cell_type": "markdown",
   "metadata": {},
   "source": [
    "Review_time stamp is given, convert this stamp to date-time format and extract the year from that in the form of \"review_year\" \n",
    "Then Sort the review_overall in descending order and then print the first review year"
   ]
  },
  {
   "cell_type": "code",
   "execution_count": 13,
   "metadata": {},
   "outputs": [
    {
     "name": "stderr",
     "output_type": "stream",
     "text": [
      "C:\\Users\\Anaconda3\\lib\\site-packages\\ipykernel_launcher.py:3: SettingWithCopyWarning: \n",
      "A value is trying to be set on a copy of a slice from a DataFrame.\n",
      "Try using .loc[row_indexer,col_indexer] = value instead\n",
      "\n",
      "See the caveats in the documentation: http://pandas.pydata.org/pandas-docs/stable/indexing.html#indexing-view-versus-copy\n",
      "  This is separate from the ipykernel package so we can avoid doing imports until\n",
      "C:\\Users\\Anaconda3\\lib\\site-packages\\ipykernel_launcher.py:4: SettingWithCopyWarning: \n",
      "A value is trying to be set on a copy of a slice from a DataFrame.\n",
      "Try using .loc[row_indexer,col_indexer] = value instead\n",
      "\n",
      "See the caveats in the documentation: http://pandas.pydata.org/pandas-docs/stable/indexing.html#indexing-view-versus-copy\n",
      "  after removing the cwd from sys.path.\n"
     ]
    }
   ],
   "source": [
    "from datetime import datetime\n",
    "df1 = data\n",
    "df1['review_time'] = pd.to_datetime(df1['review_time'],format='%Y-%m-%d %H:%M:%S')\n",
    "df1['review_year'] = df1['review_time'].dt.year.astype(int)\n",
    "df_sort_review = df1.sort_values(['review_overall'], ascending=False)"
   ]
  },
  {
   "cell_type": "code",
   "execution_count": 14,
   "metadata": {},
   "outputs": [
    {
     "data": {
      "text/html": [
       "<div>\n",
       "<style scoped>\n",
       "    .dataframe tbody tr th:only-of-type {\n",
       "        vertical-align: middle;\n",
       "    }\n",
       "\n",
       "    .dataframe tbody tr th {\n",
       "        vertical-align: top;\n",
       "    }\n",
       "\n",
       "    .dataframe thead th {\n",
       "        text-align: right;\n",
       "    }\n",
       "</style>\n",
       "<table border=\"1\" class=\"dataframe\">\n",
       "  <thead>\n",
       "    <tr style=\"text-align: right;\">\n",
       "      <th></th>\n",
       "      <th>review_overall</th>\n",
       "      <th>review_year</th>\n",
       "    </tr>\n",
       "  </thead>\n",
       "  <tbody>\n",
       "    <tr>\n",
       "      <th>435801</th>\n",
       "      <td>5.0</td>\n",
       "      <td>1970</td>\n",
       "    </tr>\n",
       "  </tbody>\n",
       "</table>\n",
       "</div>"
      ],
      "text/plain": [
       "        review_overall  review_year\n",
       "435801             5.0         1970"
      ]
     },
     "execution_count": 14,
     "metadata": {},
     "output_type": "execute_result"
    }
   ],
   "source": [
    "# printing the year with highest review along with the overall review\n",
    "df_sort_review[['review_overall', 'review_year']].head(1)"
   ]
  },
  {
   "cell_type": "markdown",
   "metadata": {},
   "source": [
    "Here is the year with highest review, along with review value"
   ]
  },
  {
   "cell_type": "markdown",
   "metadata": {},
   "source": [
    "## Question 3"
   ]
  },
  {
   "cell_type": "code",
   "execution_count": 15,
   "metadata": {},
   "outputs": [],
   "source": [
    "data_imp = data[['review_appearance', 'review_palette', 'review_taste','review_aroma', 'review_overall']]\n",
    "data_imp = data_imp.astype(float)"
   ]
  },
  {
   "cell_type": "markdown",
   "metadata": {},
   "source": [
    "I will user correlation matrix as well as a regression model to get the relation of Aroma, Taste, Appearence, Pelette with overall rating"
   ]
  },
  {
   "cell_type": "code",
   "execution_count": 16,
   "metadata": {},
   "outputs": [],
   "source": [
    "features = data_imp[['review_appearance', 'review_palette', 'review_taste', 'review_aroma']]\n",
    "lebel = data_imp[['review_overall']]"
   ]
  },
  {
   "cell_type": "markdown",
   "metadata": {},
   "source": [
    "### Random Forest Regression model"
   ]
  },
  {
   "cell_type": "code",
   "execution_count": 17,
   "metadata": {},
   "outputs": [
    {
     "name": "stderr",
     "output_type": "stream",
     "text": [
      "C:\\Users\\Anaconda3\\lib\\site-packages\\ipykernel_launcher.py:3: DataConversionWarning: A column-vector y was passed when a 1d array was expected. Please change the shape of y to (n_samples,), for example using ravel().\n",
      "  This is separate from the ipykernel package so we can avoid doing imports until\n"
     ]
    }
   ],
   "source": [
    "# Train random Forest\n",
    "rnd_clf = RandomForestRegressor(n_estimators=500, n_jobs=-1, random_state=42)\n",
    "rnd_clf.fit(features.values, lebel.values)\n",
    "feature_importance = rnd_clf.feature_importances_"
   ]
  },
  {
   "cell_type": "code",
   "execution_count": 18,
   "metadata": {},
   "outputs": [],
   "source": [
    "# Calculate feature importance from random forest, which calculate using gini impurity. Store that in Data frame\n",
    "df = pd.DataFrame({'name': [], 'score': []})\n",
    "for name, score in zip(features, feature_importance):\n",
    "    df = df.append({'name': name, 'score': score}, ignore_index=True)"
   ]
  },
  {
   "cell_type": "code",
   "execution_count": 19,
   "metadata": {},
   "outputs": [
    {
     "data": {
      "image/png": "[encoded data removed]",
      "text/plain": [
       "<Figure size 432x288 with 1 Axes>"
      ]
     },
     "metadata": {
      "needs_background": "light"
     },
     "output_type": "display_data"
    }
   ],
   "source": [
    "plt.title('Feature Importances')\n",
    "ax = sns.barplot(x=\"score\", y=\"name\", data=df, capsize=.2)"
   ]
  },
  {
   "cell_type": "markdown",
   "metadata": {},
   "source": [
    "From the plot it can be seen, that review_aroma has most importance."
   ]
  },
  {
   "cell_type": "markdown",
   "metadata": {},
   "source": [
    "##### Also checking correlation"
   ]
  },
  {
   "cell_type": "code",
   "execution_count": 20,
   "metadata": {},
   "outputs": [
    {
     "data": {
      "text/html": [
       "<div>\n",
       "<style scoped>\n",
       "    .dataframe tbody tr th:only-of-type {\n",
       "        vertical-align: middle;\n",
       "    }\n",
       "\n",
       "    .dataframe tbody tr th {\n",
       "        vertical-align: top;\n",
       "    }\n",
       "\n",
       "    .dataframe thead th {\n",
       "        text-align: right;\n",
       "    }\n",
       "</style>\n",
       "<table border=\"1\" class=\"dataframe\">\n",
       "  <thead>\n",
       "    <tr style=\"text-align: right;\">\n",
       "      <th></th>\n",
       "      <th>review_appearance</th>\n",
       "      <th>review_palette</th>\n",
       "      <th>review_taste</th>\n",
       "      <th>review_aroma</th>\n",
       "      <th>review_overall</th>\n",
       "    </tr>\n",
       "  </thead>\n",
       "  <tbody>\n",
       "    <tr>\n",
       "      <th>review_appearance</th>\n",
       "      <td>1.000000</td>\n",
       "      <td>0.547641</td>\n",
       "      <td>0.554804</td>\n",
       "      <td>0.534257</td>\n",
       "      <td>0.486682</td>\n",
       "    </tr>\n",
       "    <tr>\n",
       "      <th>review_palette</th>\n",
       "      <td>0.547641</td>\n",
       "      <td>1.000000</td>\n",
       "      <td>0.604250</td>\n",
       "      <td>0.706134</td>\n",
       "      <td>0.601948</td>\n",
       "    </tr>\n",
       "    <tr>\n",
       "      <th>review_taste</th>\n",
       "      <td>0.554804</td>\n",
       "      <td>0.604250</td>\n",
       "      <td>1.000000</td>\n",
       "      <td>0.725251</td>\n",
       "      <td>0.692432</td>\n",
       "    </tr>\n",
       "    <tr>\n",
       "      <th>review_aroma</th>\n",
       "      <td>0.534257</td>\n",
       "      <td>0.706134</td>\n",
       "      <td>0.725251</td>\n",
       "      <td>1.000000</td>\n",
       "      <td>0.782995</td>\n",
       "    </tr>\n",
       "    <tr>\n",
       "      <th>review_overall</th>\n",
       "      <td>0.486682</td>\n",
       "      <td>0.601948</td>\n",
       "      <td>0.692432</td>\n",
       "      <td>0.782995</td>\n",
       "      <td>1.000000</td>\n",
       "    </tr>\n",
       "  </tbody>\n",
       "</table>\n",
       "</div>"
      ],
      "text/plain": [
       "                   review_appearance  review_palette  review_taste  \\\n",
       "review_appearance           1.000000        0.547641      0.554804   \n",
       "review_palette              0.547641        1.000000      0.604250   \n",
       "review_taste                0.554804        0.604250      1.000000   \n",
       "review_aroma                0.534257        0.706134      0.725251   \n",
       "review_overall              0.486682        0.601948      0.692432   \n",
       "\n",
       "                   review_aroma  review_overall  \n",
       "review_appearance      0.534257        0.486682  \n",
       "review_palette         0.706134        0.601948  \n",
       "review_taste           0.725251        0.692432  \n",
       "review_aroma           1.000000        0.782995  \n",
       "review_overall         0.782995        1.000000  "
      ]
     },
     "execution_count": 20,
     "metadata": {},
     "output_type": "execute_result"
    }
   ],
   "source": [
    "data_imp.corr()"
   ]
  },
  {
   "cell_type": "markdown",
   "metadata": {},
   "source": [
    "From correlation also, it can be seen that review_aroma highest correlation with review_overall"
   ]
  },
  {
   "cell_type": "markdown",
   "metadata": {},
   "source": [
    "##### From both the result, it can be calculated that, factor Aroma is most important among appearence, taste, pelette and aroma"
   ]
  },
  {
   "cell_type": "markdown",
   "metadata": {},
   "source": [
    "### Question 4"
   ]
  },
  {
   "cell_type": "markdown",
   "metadata": {},
   "source": [
    "To recommend the beer to friend, I would recommend using beer name"
   ]
  },
  {
   "cell_type": "code",
   "execution_count": 21,
   "metadata": {
    "scrolled": true
   },
   "outputs": [
    {
     "data": {
      "text/html": [
       "<div>\n",
       "<style scoped>\n",
       "    .dataframe tbody tr th:only-of-type {\n",
       "        vertical-align: middle;\n",
       "    }\n",
       "\n",
       "    .dataframe tbody tr th {\n",
       "        vertical-align: top;\n",
       "    }\n",
       "\n",
       "    .dataframe thead th {\n",
       "        text-align: right;\n",
       "    }\n",
       "</style>\n",
       "<table border=\"1\" class=\"dataframe\">\n",
       "  <thead>\n",
       "    <tr style=\"text-align: right;\">\n",
       "      <th></th>\n",
       "      <th>beer_name</th>\n",
       "      <th>beer_ABV</th>\n",
       "    </tr>\n",
       "  </thead>\n",
       "  <tbody>\n",
       "    <tr>\n",
       "      <th>14346</th>\n",
       "      <td>Schorschbräu Schorschbock 57%</td>\n",
       "      <td>57.70</td>\n",
       "    </tr>\n",
       "    <tr>\n",
       "      <th>14345</th>\n",
       "      <td>Schorschbräu Schorschbock 43%</td>\n",
       "      <td>43.00</td>\n",
       "    </tr>\n",
       "    <tr>\n",
       "      <th>14344</th>\n",
       "      <td>Schorschbräu Schorschbock 40%</td>\n",
       "      <td>39.44</td>\n",
       "    </tr>\n",
       "    <tr>\n",
       "      <th>14343</th>\n",
       "      <td>Schorschbräu Schorschbock 31%</td>\n",
       "      <td>30.86</td>\n",
       "    </tr>\n",
       "    <tr>\n",
       "      <th>14173</th>\n",
       "      <td>Samuel Adams Utopias</td>\n",
       "      <td>27.00</td>\n",
       "    </tr>\n",
       "  </tbody>\n",
       "</table>\n",
       "</div>"
      ],
      "text/plain": [
       "                           beer_name  beer_ABV\n",
       "14346  Schorschbräu Schorschbock 57%     57.70\n",
       "14345  Schorschbräu Schorschbock 43%     43.00\n",
       "14344  Schorschbräu Schorschbock 40%     39.44\n",
       "14343  Schorschbräu Schorschbock 31%     30.86\n",
       "14173           Samuel Adams Utopias     27.00"
      ]
     },
     "execution_count": 21,
     "metadata": {},
     "output_type": "execute_result"
    }
   ],
   "source": [
    "beer_name = data.groupby('beer_name').agg(dict(beer_ABV = 'mean', review_appearance='mean', review_palette ='mean', review_overall= 'mean', review_aroma='mean', review_taste='mean')).reset_index()\n",
    "beer_name = beer_name.sort_values(['beer_ABV'], ascending=False)\n",
    "beer_sorted_ABV = beer_name[['beer_name', 'beer_ABV']] \n",
    "beer_sorted_ABV.head(5)"
   ]
  },
  {
   "cell_type": "markdown",
   "metadata": {},
   "source": [
    "#### If I want to recommend beer to friend by Beer name, then I will check the beer name with highest number of review, taste rating, aroma rating, appearence rating, pelette rating and overall rating "
   ]
  },
  {
   "cell_type": "code",
   "execution_count": 22,
   "metadata": {},
   "outputs": [
    {
     "name": "stdout",
     "output_type": "stream",
     "text": [
      "Beer name with top taste ratings:----- \n",
      "                                     beer_name  review_taste\n",
      "13089                     Quaker Oatmeal Stout           5.0\n",
      "5394                         Edsten Triple-Wit           5.0\n",
      "5622   Ernest's Silky Smoove (with Cacao Nibs)           5.0\n",
      "8776        Jasper Murdock's Private Stock '04           5.0\n",
      "1240                           Azumino Pilsner           5.0\n"
     ]
    }
   ],
   "source": [
    "# Which beer(beer name) have good quality (review_taste)\n",
    "beer_quality_taste = beer_name[['beer_name', 'review_taste']]\n",
    "beer_quality_taste = beer_quality_taste.sort_values('review_taste', ascending=False)\n",
    "print(\"Beer name with top taste ratings:----- \\n{}\".format(beer_quality_taste[:5]))"
   ]
  },
  {
   "cell_type": "code",
   "execution_count": 23,
   "metadata": {},
   "outputs": [
    {
     "name": "stdout",
     "output_type": "stream",
     "text": [
      "Beer name with top appearance ratings:----- \n",
      "                                          beer_name  review_appearance\n",
      "2222        Black Brite (for Barnsley Beer Company)                5.0\n",
      "16614                    Tom Woods Christmas Cheers                5.0\n",
      "6813                     Goodes Highland Scotch Ale                5.0\n",
      "16097  Tall Tale Pale Ale (dry-hopped With Glacier)                5.0\n",
      "8181                                    Hops Bandit                5.0\n"
     ]
    }
   ],
   "source": [
    "# Which beer(beer name) have good quality (review_appearance)\n",
    "beer_quality_appearance = beer_name[['beer_name', 'review_appearance']]\n",
    "beer_quality_appearance = beer_quality_appearance.sort_values('review_appearance', ascending=False)\n",
    "print(\"Beer name with top appearance ratings:----- \\n{}\".format(beer_quality_appearance[:5]))"
   ]
  },
  {
   "cell_type": "code",
   "execution_count": 24,
   "metadata": {},
   "outputs": [
    {
     "name": "stdout",
     "output_type": "stream",
     "text": [
      "Beer name with top palette ratings:----- \n",
      "                        beer_name  review_palette\n",
      "15002         Smokey The Rye Beer             5.0\n",
      "6813   Goodes Highland Scotch Ale             5.0\n",
      "16539              Timothy's Fear             5.0\n",
      "14267                    Sasquash             5.0\n",
      "2638         Blueberry Hefeweizen             5.0\n"
     ]
    }
   ],
   "source": [
    "# Which beer(beer name) have good quality (review_pelette)\n",
    "beer_quality_palette = beer_name[['beer_name', 'review_palette']]\n",
    "beer_quality_palette = beer_quality_palette.sort_values('review_palette', ascending=False)\n",
    "print(\"Beer name with top palette ratings:----- \\n{}\".format(beer_quality_palette[:5]))"
   ]
  },
  {
   "cell_type": "code",
   "execution_count": 25,
   "metadata": {},
   "outputs": [
    {
     "name": "stdout",
     "output_type": "stream",
     "text": [
      "Beer name with top aroma ratings:----- \n",
      "                     beer_name  review_aroma\n",
      "11860           Old Black Boot           5.0\n",
      "15481        Star Of India IPA           5.0\n",
      "10478  McBane's Strawberry Wit           5.0\n",
      "3340        Buster's Brown Ale           5.0\n",
      "3934     Cherry, Oatmeal Stout           5.0\n"
     ]
    }
   ],
   "source": [
    "# Which beer(beer name) have good quality (review_aroma)\n",
    "beer_quality_aroma = beer_name[['beer_name', 'review_aroma']]\n",
    "beer_quality_aroma = beer_quality_aroma.sort_values('review_aroma', ascending=False)\n",
    "print(\"Beer name with top aroma ratings:----- \\n{}\".format(beer_quality_aroma[:5]))"
   ]
  },
  {
   "cell_type": "code",
   "execution_count": 26,
   "metadata": {},
   "outputs": [
    {
     "name": "stdout",
     "output_type": "stream",
     "text": [
      "Beer name with top overall ratings:----- \n",
      "                              beer_name  review_overall\n",
      "2723   Bolita Brown - East India Trader             5.0\n",
      "9604                La Sambresse Blonde             5.0\n",
      "11466                   Nine Tailed Fox             5.0\n",
      "13218                Ramstein Project Z             5.0\n",
      "9165                        Kimono Girl             5.0\n"
     ]
    }
   ],
   "source": [
    "# Which beer(beer name) have good quality (review_overall)\n",
    "beer_quality_taste = beer_name[['beer_name', 'review_overall']]\n",
    "beer_quality_taste = beer_quality_taste.sort_values('review_overall', ascending=False)\n",
    "print(\"Beer name with top overall ratings:----- \\n{}\".format(beer_quality_taste[:5]))"
   ]
  },
  {
   "cell_type": "markdown",
   "metadata": {},
   "source": [
    "##### From here it is difficult to conclude, which beer should be recommended. "
   ]
  },
  {
   "cell_type": "markdown",
   "metadata": {},
   "source": [
    "#### So now I'm going to taked help from question 3, in which it was found that Aroma is the most important factor in overall review. So I'm going to use Aroma and also beer style to recommend the beer. \n",
    "#### And I also like the beer's Aroma so taking this feature in consideration."
   ]
  },
  {
   "cell_type": "code",
   "execution_count": 27,
   "metadata": {},
   "outputs": [],
   "source": [
    "beer_ar_st = data[['review_aroma','beer_style']]\n",
    "aro_beer = beer_ar_st.groupby('beer_style').agg({'review_aroma': np.mean})\n",
    "aro_beer = pd.DataFrame(aro_beer.reset_index())\n",
    "aro_beer.columns = ['beer_style','review_aroma_mean']"
   ]
  },
  {
   "cell_type": "code",
   "execution_count": 28,
   "metadata": {},
   "outputs": [
    {
     "data": {
      "text/html": [
       "<div>\n",
       "<style scoped>\n",
       "    .dataframe tbody tr th:only-of-type {\n",
       "        vertical-align: middle;\n",
       "    }\n",
       "\n",
       "    .dataframe tbody tr th {\n",
       "        vertical-align: top;\n",
       "    }\n",
       "\n",
       "    .dataframe thead th {\n",
       "        text-align: right;\n",
       "    }\n",
       "</style>\n",
       "<table border=\"1\" class=\"dataframe\">\n",
       "  <thead>\n",
       "    <tr style=\"text-align: right;\">\n",
       "      <th></th>\n",
       "      <th>beer_style</th>\n",
       "      <th>review_aroma_mean</th>\n",
       "    </tr>\n",
       "  </thead>\n",
       "  <tbody>\n",
       "    <tr>\n",
       "      <th>11</th>\n",
       "      <td>American Double / Imperial Stout</td>\n",
       "      <td>4.262936</td>\n",
       "    </tr>\n",
       "    <tr>\n",
       "      <th>86</th>\n",
       "      <td>Quadrupel (Quad)</td>\n",
       "      <td>4.214213</td>\n",
       "    </tr>\n",
       "    <tr>\n",
       "      <th>41</th>\n",
       "      <td>Eisbock</td>\n",
       "      <td>4.194872</td>\n",
       "    </tr>\n",
       "  </tbody>\n",
       "</table>\n",
       "</div>"
      ],
      "text/plain": [
       "                          beer_style  review_aroma_mean\n",
       "11  American Double / Imperial Stout           4.262936\n",
       "86                  Quadrupel (Quad)           4.214213\n",
       "41                           Eisbock           4.194872"
      ]
     },
     "execution_count": 28,
     "metadata": {},
     "output_type": "execute_result"
    }
   ],
   "source": [
    "recomd = aro_beer.sort_values(['review_aroma_mean'], ascending= False)\n",
    "recomd.head(3)"
   ]
  },
  {
   "cell_type": "code",
   "execution_count": 29,
   "metadata": {},
   "outputs": [
    {
     "data": {
      "text/plain": [
       "11    American Double / Imperial Stout\n",
       "86                    Quadrupel (Quad)\n",
       "41                             Eisbock\n",
       "Name: beer_style, dtype: object"
      ]
     },
     "execution_count": 29,
     "metadata": {},
     "output_type": "execute_result"
    }
   ],
   "source": [
    "top = recomd[:3]['beer_style']\n",
    "top"
   ]
  },
  {
   "cell_type": "markdown",
   "metadata": {},
   "source": [
    "These are the top 3 beer, which I would recommend."
   ]
  },
  {
   "cell_type": "markdown",
   "metadata": {},
   "source": [
    "## Question 5"
   ]
  },
  {
   "cell_type": "code",
   "execution_count": 30,
   "metadata": {},
   "outputs": [],
   "source": [
    "beer_style = data\n",
    "beer_style_group = beer_style.groupby('beer_beerId').agg(dict(beer_style='first', review_overall= 'first', review_aroma='first', review_taste='first', beer_name='first')).reset_index()"
   ]
  },
  {
   "cell_type": "code",
   "execution_count": 31,
   "metadata": {},
   "outputs": [
    {
     "name": "stdout",
     "output_type": "stream",
     "text": [
      "Total number of beer types:  104\n"
     ]
    },
    {
     "data": {
      "text/plain": [
       "American IPA                      1103\n",
       "American Pale Ale (APA)           1005\n",
       "American Amber / Red Ale           798\n",
       "American Porter                    671\n",
       "Fruit / Vegetable Beer             600\n",
       "Hefeweizen                         484\n",
       "Euro Pale Lager                    483\n",
       "American Double / Imperial IPA     480\n",
       "English Bitter                     450\n",
       "American Stout                     437\n",
       "Name: beer_style, dtype: int64"
      ]
     },
     "execution_count": 31,
     "metadata": {},
     "output_type": "execute_result"
    }
   ],
   "source": [
    "beer_style_counts = beer_style_group['beer_style'].value_counts()\n",
    "print(\"Total number of beer types: \", len(beer_style_counts))\n",
    "beer_style_counts.head(10)"
   ]
  },
  {
   "cell_type": "code",
   "execution_count": 32,
   "metadata": {},
   "outputs": [
    {
     "name": "stdout",
     "output_type": "stream",
     "text": [
      "Beer with top ratings:----- \n",
      "American IPA                      1103\n",
      "American Pale Ale (APA)           1005\n",
      "American Amber / Red Ale           798\n",
      "American Porter                    671\n",
      "Fruit / Vegetable Beer             600\n",
      "Hefeweizen                         484\n",
      "Euro Pale Lager                    483\n",
      "American Double / Imperial IPA     480\n",
      "English Bitter                     450\n",
      "American Stout                     437\n",
      "Name: beer_style, dtype: int64\n"
     ]
    },
    {
     "data": {
      "image/png": "[encoded data removed]",
      "text/plain": [
       "<Figure size 432x288 with 1 Axes>"
      ]
     },
     "metadata": {
      "needs_background": "light"
     },
     "output_type": "display_data"
    }
   ],
   "source": [
    "beer_style_counts[:10].plot(kind='bar')\n",
    "plt.title('Beer with reviews')\n",
    "plt.xlabel('Beer Types')\n",
    "plt.ylabel('Number of reviews')\n",
    "\n",
    "print(\"Beer with top ratings:----- \\n{}\".format(beer_style_counts[:10]))"
   ]
  },
  {
   "cell_type": "markdown",
   "metadata": {},
   "source": [
    "##### Beer style \"American IPA\" has highest number of review by users, so if I assume \"more reviews of beer as more consumption\" Then American IPA is the Beer mostly favoured."
   ]
  },
  {
   "cell_type": "markdown",
   "metadata": {},
   "source": [
    "Now Checking the varaition of Beer style with rating. "
   ]
  },
  {
   "cell_type": "code",
   "execution_count": 33,
   "metadata": {},
   "outputs": [],
   "source": [
    "beer_rating = beer_style.groupby('beer_style').agg(dict(review_overall='mean'))\n",
    "beer_rating = beer_rating.sort_values('review_overall', ascending=False).reset_index()"
   ]
  },
  {
   "cell_type": "code",
   "execution_count": 34,
   "metadata": {},
   "outputs": [
    {
     "data": {
      "text/html": [
       "<div>\n",
       "<style scoped>\n",
       "    .dataframe tbody tr th:only-of-type {\n",
       "        vertical-align: middle;\n",
       "    }\n",
       "\n",
       "    .dataframe tbody tr th {\n",
       "        vertical-align: top;\n",
       "    }\n",
       "\n",
       "    .dataframe thead th {\n",
       "        text-align: right;\n",
       "    }\n",
       "</style>\n",
       "<table border=\"1\" class=\"dataframe\">\n",
       "  <thead>\n",
       "    <tr style=\"text-align: right;\">\n",
       "      <th></th>\n",
       "      <th>beer_style</th>\n",
       "      <th>review_overall</th>\n",
       "    </tr>\n",
       "  </thead>\n",
       "  <tbody>\n",
       "    <tr>\n",
       "      <th>0</th>\n",
       "      <td>Gueuze</td>\n",
       "      <td>4.140952</td>\n",
       "    </tr>\n",
       "    <tr>\n",
       "      <th>1</th>\n",
       "      <td>Berliner Weissbier</td>\n",
       "      <td>4.133976</td>\n",
       "    </tr>\n",
       "    <tr>\n",
       "      <th>2</th>\n",
       "      <td>American Double / Imperial Stout</td>\n",
       "      <td>4.100360</td>\n",
       "    </tr>\n",
       "    <tr>\n",
       "      <th>3</th>\n",
       "      <td>Oatmeal Stout</td>\n",
       "      <td>4.080741</td>\n",
       "    </tr>\n",
       "    <tr>\n",
       "      <th>4</th>\n",
       "      <td>Eisbock</td>\n",
       "      <td>4.079487</td>\n",
       "    </tr>\n",
       "    <tr>\n",
       "      <th>5</th>\n",
       "      <td>Rye Beer</td>\n",
       "      <td>4.070104</td>\n",
       "    </tr>\n",
       "    <tr>\n",
       "      <th>6</th>\n",
       "      <td>Dortmunder / Export Lager</td>\n",
       "      <td>4.051962</td>\n",
       "    </tr>\n",
       "    <tr>\n",
       "      <th>7</th>\n",
       "      <td>Quadrupel (Quad)</td>\n",
       "      <td>4.049371</td>\n",
       "    </tr>\n",
       "    <tr>\n",
       "      <th>8</th>\n",
       "      <td>Roggenbier</td>\n",
       "      <td>4.032680</td>\n",
       "    </tr>\n",
       "    <tr>\n",
       "      <th>9</th>\n",
       "      <td>Lambic - Fruit</td>\n",
       "      <td>4.027070</td>\n",
       "    </tr>\n",
       "  </tbody>\n",
       "</table>\n",
       "</div>"
      ],
      "text/plain": [
       "                         beer_style  review_overall\n",
       "0                            Gueuze        4.140952\n",
       "1                Berliner Weissbier        4.133976\n",
       "2  American Double / Imperial Stout        4.100360\n",
       "3                     Oatmeal Stout        4.080741\n",
       "4                           Eisbock        4.079487\n",
       "5                          Rye Beer        4.070104\n",
       "6         Dortmunder / Export Lager        4.051962\n",
       "7                  Quadrupel (Quad)        4.049371\n",
       "8                        Roggenbier        4.032680\n",
       "9                    Lambic - Fruit        4.027070"
      ]
     },
     "execution_count": 34,
     "metadata": {},
     "output_type": "execute_result"
    }
   ],
   "source": [
    "beer_rating.head(10)"
   ]
  },
  {
   "cell_type": "markdown",
   "metadata": {},
   "source": [
    "##### From overall rating point of, \"Faro\" beer style is most favoured. As it has highest overall average rating"
   ]
  },
  {
   "cell_type": "code",
   "execution_count": null,
   "metadata": {},
   "outputs": [],
   "source": []
  }
 ],
 "metadata": {
  "kernelspec": {
   "display_name": "Python 3",
   "language": "python",
   "name": "python3"
  },
  "language_info": {
   "codemirror_mode": {
    "name": "ipython",
    "version": 3
   },
   "file_extension": ".py",
   "mimetype": "text/x-python",
   "name": "python",
   "nbconvert_exporter": "python",
   "pygments_lexer": "ipython3",
   "version": "3.7.3"
  }
 },
 "nbformat": 4,
 "nbformat_minor": 2
}
